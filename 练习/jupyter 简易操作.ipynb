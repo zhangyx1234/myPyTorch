{
 "cells": [
  {
   "cell_type": "code",
   "execution_count": null,
   "metadata": {},
   "outputs": [],
   "source": [
    "# 显示主题\n",
    "    jt -l\n",
    "    \n",
    "# 修改主题\n",
    "    jt -t   XXX\n",
    "\n",
    "# 恢复原始主题\n",
    "    jt -t   r \n",
    "    \n",
    "# 比较好的主题\n",
    "jt -t monokai -f fira -fs 14 -cellw 90% -ofs 11 -dfs 11 -T -N\n",
    "\n",
    "#打开 matlibplot绘图，\n",
    "%matplotlib inline\n",
    "\n",
    "#运行.py文件\n",
    "%run XXX.py\n",
    "\n",
    "#保存为.py文件\n",
    "%%writefile XXX.py"
   ]
  }
 ],
 "metadata": {
  "kernelspec": {
   "display_name": "Python 3",
   "language": "python",
   "name": "python3"
  },
  "language_info": {
   "codemirror_mode": {
    "name": "ipython",
    "version": 3
   },
   "file_extension": ".py",
   "mimetype": "text/x-python",
   "name": "python",
   "nbconvert_exporter": "python",
   "pygments_lexer": "ipython3",
   "version": "3.6.9"
  }
 },
 "nbformat": 4,
 "nbformat_minor": 2
}
