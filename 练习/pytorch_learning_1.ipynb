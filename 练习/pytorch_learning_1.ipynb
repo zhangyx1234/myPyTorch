{
 "cells": [
  {
   "cell_type": "markdown",
   "metadata": {},
   "source": [
    "# 文本数据处理"
   ]
  },
  {
   "cell_type": "code",
   "execution_count": 4,
   "metadata": {},
   "outputs": [
    {
     "name": "stdout",
     "output_type": "stream",
     "text": [
      "['我爱你', '上海', '她', '喜欢', '北京']\n"
     ]
    }
   ],
   "source": [
    "import jieba\n",
    "#收集数据\n",
    "text = '我爱你! 上海, 她喜欢北京'\n",
    "#定义停用词\n",
    "stoplist = [' ', ',', '!']\n",
    "#jieba分词\n",
    "words  = list(jieba.cut(text))\n",
    "#去停用词\n",
    "words = [i for i in words if i not in stoplist]\n",
    "\n",
    "print(words)"
   ]
  },
  {
   "cell_type": "code",
   "execution_count": 5,
   "metadata": {},
   "outputs": [
    {
     "name": "stdout",
     "output_type": "stream",
     "text": [
      "{0: '她', 1: '北京', 2: '我爱你', 3: '上海', 4: '喜欢'}\n"
     ]
    }
   ],
   "source": [
    "#去重后，给每个词加上索引\n",
    "word2idx = {i: word for i, word in enumerate(set(words))}\n",
    "print(word2idx)\n",
    "\n"
   ]
  },
  {
   "cell_type": "code",
   "execution_count": 6,
   "metadata": {},
   "outputs": [
    {
     "name": "stdout",
     "output_type": "stream",
     "text": [
      "[tensor([ 0.5053, -0.1327,  0.1853,  2.0108,  0.2185,  0.8369, -0.1684,  0.0642]), tensor([ 1.2780,  0.3723,  0.4260, -0.9746,  1.0695, -0.1933,  1.7275, -0.1716]), tensor([ 1.3466, -0.8781,  0.3389, -1.1592,  2.2539, -0.3271,  0.5880, -1.6213]), tensor([ 1.9802, -0.3155,  0.2681, -0.4629,  1.9461, -0.2672, -0.9540,  0.5264]), tensor([-0.1704, -1.4528, -0.9387,  0.3401, -0.5526, -1.1619,  0.8923,  1.2070])]\n"
     ]
    }
   ],
   "source": [
    "#词向量和词嵌入\n",
    "from torch import nn\n",
    "import torch\n",
    "\n",
    "embeds = nn.Embedding(6, 8)\n",
    "list = []\n",
    "for k, v in word2idx.items():\n",
    "    tensor_value = torch.tensor(k)\n",
    "    list.append(embeds(tensor_value).data)\n",
    "print(list)"
   ]
  },
  {
   "cell_type": "code",
   "execution_count": null,
   "metadata": {},
   "outputs": [],
   "source": []
  },
  {
   "cell_type": "code",
   "execution_count": null,
   "metadata": {},
   "outputs": [],
   "source": []
  },
  {
   "cell_type": "code",
   "execution_count": null,
   "metadata": {},
   "outputs": [],
   "source": []
  },
  {
   "cell_type": "code",
   "execution_count": null,
   "metadata": {},
   "outputs": [],
   "source": []
  }
 ],
 "metadata": {
  "kernelspec": {
   "display_name": "Python 3",
   "language": "python",
   "name": "python3"
  },
  "language_info": {
   "codemirror_mode": {
    "name": "ipython",
    "version": 3
   },
   "file_extension": ".py",
   "mimetype": "text/x-python",
   "name": "python",
   "nbconvert_exporter": "python",
   "pygments_lexer": "ipython3",
   "version": "3.6.9"
  }
 },
 "nbformat": 4,
 "nbformat_minor": 2
}
